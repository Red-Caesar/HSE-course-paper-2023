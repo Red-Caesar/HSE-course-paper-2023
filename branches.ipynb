{
 "cells": [
  {
   "cell_type": "code",
   "execution_count": 1,
   "metadata": {},
   "outputs": [],
   "source": [
    "import numpy as np\n",
    "from typing import List, Tuple"
   ]
  },
  {
   "cell_type": "code",
   "execution_count": 2,
   "metadata": {},
   "outputs": [],
   "source": [
    "def remove_row_col(matrix: List[List], remove_list: List) -> List[List]:\n",
    "    row = []\n",
    "    col = []\n",
    "    for i in range(len(remove_list)-1):\n",
    "        row.append(remove_list[i])\n",
    "        col.append(remove_list[i+1])\n",
    "\n",
    "    matrix = np.delete(matrix, row, 0)\n",
    "    matrix = np.delete(matrix, col, 1)\n",
    "    return matrix\n",
    "\n",
    "def find_lower_bound(matrix: List[List], remove_list: List) -> int: \n",
    "    if len(remove_list) > 1:\n",
    "        matrix = remove_row_col(matrix, remove_list)\n",
    "    row_min = []\n",
    "    col_min = []\n",
    "    for i in range(len(matrix)):\n",
    "        row_min.append(min(matrix[i])) \n",
    "        col_min.append(min(matrix[:, i]))\n",
    "    return max(sum(row_min), sum(col_min))\n",
    "\n",
    "def find_upper_bound(matrix: List[List], visited: List) -> Tuple[int, List]:\n",
    "    upper_bound = 0\n",
    "    if len(visited) > 1:\n",
    "       for i in range(len(visited)-1):\n",
    "        upper_bound += matrix[visited[i]][visited[i+1]]\n",
    "    \n",
    "    start = visited[-1]\n",
    "    queue = []\n",
    "    queue.append(start)\n",
    "\n",
    "    while queue:\n",
    "        i = queue.pop()\n",
    "        if len(visited) == len(matrix):\n",
    "            upper_bound += matrix[i][0]\n",
    "            visited.append(0)\n",
    "            break\n",
    "\n",
    "        row = dict(zip(range(len(matrix)), matrix[i]))\n",
    "        row = sorted(row.items(), key=lambda x: x[1])\n",
    "        \n",
    "        for key, val in row:\n",
    "            if key not in visited:\n",
    "                upper_bound += val\n",
    "                visited.append(key)\n",
    "                queue.append(key)\n",
    "                break\n",
    "    return (upper_bound, visited)\n",
    "\n",
    "\n",
    "def branches_and_boundaries(matrix: List[List], path: List, record: Tuple[float, List]) -> Tuple[float, List]:\n",
    "    \n",
    "    lower_bound = find_lower_bound(matrix, path[:])\n",
    "    upper_bound, upper_path = find_upper_bound(matrix, path[:])\n",
    "    if upper_bound < record[0]:\n",
    "        record = (upper_bound, upper_path)\n",
    "    if lower_bound >= record[0]:\n",
    "        return record\n",
    "    for i in range(len(matrix)):\n",
    "        if i not in path:\n",
    "            record = branches_and_boundaries(matrix, path + [i], record)\n",
    "\n",
    "    return record\n",
    "    "
   ]
  },
  {
   "cell_type": "code",
   "execution_count": 3,
   "metadata": {},
   "outputs": [],
   "source": [
    "M = float('inf')\n",
    "ex_1 = np.array([\n",
    "    [M, 10, 17, 15],\n",
    "    [20, M, 19, 18],\n",
    "    [50, 44, M, 25],\n",
    "    [45, 40, 20, M]\n",
    "])\n",
    "\n",
    "ex_2 = np.array([\n",
    "    [M, 10, 1, 1],\n",
    "    [10, M, 1, 5],\n",
    "    [1, 1, M, 10],\n",
    "    [1, 5, 10, M]\n",
    "])\n",
    "\n",
    "ex_3 = np.array([\n",
    "    [M, 5, 7, 6, 8, 3],\n",
    "    [1, M, 8, 4, 6, 2],\n",
    "    [3, 9, M, 6, 5, 3],\n",
    "    [7, 8, 4, M, 4, 2],\n",
    "    [2, 7, 5, 6, M, 6],\n",
    "    [5, 2, 6, 4, 5, M],\n",
    "])\n",
    "\n",
    "ex_4 = np.array([\n",
    "    [M, 10, 2],\n",
    "    [3, M, 1],\n",
    "    [8, 15, M],\n",
    "])"
   ]
  },
  {
   "cell_type": "code",
   "execution_count": 4,
   "metadata": {},
   "outputs": [
    {
     "name": "stdout",
     "output_type": "stream",
     "text": [
      "(98.0, [0, 1, 3, 2, 0])\n",
      "(8.0, [0, 2, 1, 3, 0])\n",
      "(20.0, [0, 5, 1, 3, 2, 4, 0])\n",
      "(19.0, [0, 1, 2, 0])\n"
     ]
    }
   ],
   "source": [
    "test = [ex_1, ex_2, ex_3, ex_4]\n",
    "record = (float('inf'), None)\n",
    "for ex in test:\n",
    "    print(branches_and_boundaries(ex, [0], record))"
   ]
  }
 ],
 "metadata": {
  "kernelspec": {
   "display_name": "base",
   "language": "python",
   "name": "python3"
  },
  "language_info": {
   "codemirror_mode": {
    "name": "ipython",
    "version": 3
   },
   "file_extension": ".py",
   "mimetype": "text/x-python",
   "name": "python",
   "nbconvert_exporter": "python",
   "pygments_lexer": "ipython3",
   "version": "3.9.13"
  },
  "orig_nbformat": 4
 },
 "nbformat": 4,
 "nbformat_minor": 2
}
