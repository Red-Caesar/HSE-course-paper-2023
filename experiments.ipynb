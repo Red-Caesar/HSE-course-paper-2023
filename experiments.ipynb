{
 "cells": [
  {
   "cell_type": "code",
   "execution_count": 2,
   "metadata": {},
   "outputs": [],
   "source": [
    "from Hopfield import HopfieldModel\n",
    "from BnB import BnBMethod\n",
    "from parseTSP import parsing\n",
    "import numpy as np"
   ]
  },
  {
   "cell_type": "code",
   "execution_count": null,
   "metadata": {},
   "outputs": [],
   "source": [
    "# Чтобы сеть сходилась, матрицы должны быть симметричны\n",
    "M = 0\n",
    "ex_1 = np.array([\n",
    "    [M, 10, 1, 1],\n",
    "    [10, M, 1, 5],\n",
    "    [1, 1, M, 10],\n",
    "    [1, 5, 10, M]\n",
    "])\n",
    "\n",
    "ex_2 = np.array([\n",
    "    [M, 10, 2],\n",
    "    [10, M, 1],\n",
    "    [2, 1, M],\n",
    "])\n",
    "\n",
    "ex_3 = np.array([\n",
    "    [M, 10, 17, 15],\n",
    "    [10, M, 19, 18],\n",
    "    [17, 19, M, 25],\n",
    "    [15, 18, 25, M]\n",
    "])\n"
   ]
  },
  {
   "cell_type": "code",
   "execution_count": null,
   "metadata": {},
   "outputs": [],
   "source": [
    "# [1000000, 1000000, 1000000, 500], 5 - one of the best sets for TSP\n",
    "# model = HopfieldModel('sigmoid', [1000000, 1000000, 1000000, 500], 5)\n",
    "# model = HopfieldModel('sigmoid', [5000, 5000, 5000, 500], 1)\n",
    "model = HopfieldModel(ex_2, 'sigmoid',[10000, 10000, 10000, 50], 5)\n",
    "attempt = 0\n",
    "while not model.get_path():\n",
    "    attempt += 1\n",
    "print(attempt)\n",
    "model.print_result()\n",
    "# model.get_path()\n",
    "# model.print_result()\n"
   ]
  }
 ],
 "metadata": {
  "kernelspec": {
   "display_name": "base",
   "language": "python",
   "name": "python3"
  },
  "language_info": {
   "codemirror_mode": {
    "name": "ipython",
    "version": 3
   },
   "file_extension": ".py",
   "mimetype": "text/x-python",
   "name": "python",
   "nbconvert_exporter": "python",
   "pygments_lexer": "ipython3",
   "version": "3.9.13"
  },
  "orig_nbformat": 4
 },
 "nbformat": 4,
 "nbformat_minor": 2
}
